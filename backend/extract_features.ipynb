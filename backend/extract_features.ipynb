{
 "cells": [
  {
   "cell_type": "code",
   "execution_count": 1,
   "metadata": {},
   "outputs": [
    {
     "name": "stdout",
     "output_type": "stream",
     "text": [
      "Model loaded successfully\n"
     ]
    },
    {
     "name": "stderr",
     "output_type": "stream",
     "text": [
      "Processing images: 100%|██████████| 100/100 [00:07<00:00, 14.27it/s]"
     ]
    },
    {
     "name": "stdout",
     "output_type": "stream",
     "text": [
      "Saving features to features_prueba.pkl. Please wait...\n"
     ]
    },
    {
     "name": "stderr",
     "output_type": "stream",
     "text": [
      "\n"
     ]
    }
   ],
   "source": [
    "import os\n",
    "from FeatureExtraction import FeatureExtraction\n",
    "\n",
    "extractor = FeatureExtraction()\n",
    "\n",
    "img_paths = [os.path.join(\"images\", f) for f in os.listdir(\"images\")]\n",
    "\n",
    "img_paths = img_paths[:100]\n",
    "\n",
    "features = extractor.extract_features(img_paths)\n",
    "extractor.save_features(features, \"features_prueba.pkl\")"
   ]
  },
  {
   "cell_type": "code",
   "execution_count": 4,
   "metadata": {},
   "outputs": [
    {
     "name": "stdout",
     "output_type": "stream",
     "text": [
      "100\n"
     ]
    }
   ],
   "source": [
    "import pickle as pkl\n",
    "from sklearn.decomposition import PCA\n",
    "\n",
    "with open(\"features_prueba.pkl\", 'rb') as f:\n",
    "    features = pkl.load(f)\n",
    "\n",
    "print(features.keys())"
   ]
  }
 ],
 "metadata": {
  "kernelspec": {
   "display_name": "venv",
   "language": "python",
   "name": "python3"
  },
  "language_info": {
   "codemirror_mode": {
    "name": "ipython",
    "version": 3
   },
   "file_extension": ".py",
   "mimetype": "text/x-python",
   "name": "python",
   "nbconvert_exporter": "python",
   "pygments_lexer": "ipython3",
   "version": "3.12.0"
  }
 },
 "nbformat": 4,
 "nbformat_minor": 2
}
