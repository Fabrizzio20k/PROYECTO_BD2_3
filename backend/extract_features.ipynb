{
 "cells": [
  {
   "cell_type": "code",
   "execution_count": 4,
   "metadata": {},
   "outputs": [
    {
     "name": "stderr",
     "output_type": "stream",
     "text": [
      "Processing images: 100%|██████████| 44441/44441 [43:06<00:00, 17.18it/s] \n"
     ]
    },
    {
     "name": "stdout",
     "output_type": "stream",
     "text": [
      "Saving features to features.pkl. Please wait...\n"
     ]
    }
   ],
   "source": [
    "import os\n",
    "from FeatureExtraction import FeatureExtraction\n",
    "\n",
    "extractor = FeatureExtraction()\n",
    "\n",
    "img_paths = [os.path.join(\"images\", f) for f in os.listdir(\"images\")]\n",
    "\n",
    "features = extractor.extract_features(img_paths)\n",
    "extractor.save_features(features, \"features.pkl\")"
   ]
  },
  {
   "cell_type": "code",
   "execution_count": 2,
   "metadata": {},
   "outputs": [
    {
     "name": "stdout",
     "output_type": "stream",
     "text": [
      "[-0.13786842 -0.6808511  -1.0284598  ... -0.7277089   0.2425156\n",
      "  2.2667933 ]\n"
     ]
    }
   ],
   "source": [
    "import pickle as pkl\n",
    "from sklearn.decomposition import PCA\n",
    "\n",
    "with open(\"features/features.pkl\", 'rb') as f:\n",
    "    features = pkl.load(f)\n",
    "\n",
    "f_arr = []\n",
    "\n",
    "for k,v in features.items():\n",
    "    f_arr.append(v)\n",
    "\n",
    "print(f_arr[10])"
   ]
  }
 ],
 "metadata": {
  "kernelspec": {
   "display_name": "venv",
   "language": "python",
   "name": "python3"
  },
  "language_info": {
   "codemirror_mode": {
    "name": "ipython",
    "version": 3
   },
   "file_extension": ".py",
   "mimetype": "text/x-python",
   "name": "python",
   "nbconvert_exporter": "python",
   "pygments_lexer": "ipython3",
   "version": "3.12.0"
  }
 },
 "nbformat": 4,
 "nbformat_minor": 2
}
