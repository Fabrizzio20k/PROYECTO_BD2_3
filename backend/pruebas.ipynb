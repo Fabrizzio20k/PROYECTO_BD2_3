{
 "cells": [
  {
   "cell_type": "code",
   "execution_count": 1,
   "metadata": {},
   "outputs": [],
   "source": [
    "import tensorflow as tf\n",
    "from tensorflow.keras.applications import InceptionV3\n",
    "from tensorflow.keras.preprocessing import image\n",
    "from tensorflow.keras.applications.inception_v3 import preprocess_input\n",
    "import numpy as np\n",
    "from sklearn.decomposition import PCA\n",
    "from sklearn.preprocessing import StandardScaler\n",
    "\n",
    "class FeatureExtraction:\n",
    "    def __init__(self):\n",
    "        self.model = InceptionV3(weights='imagenet', include_top=False)\n",
    "        self.scaler = StandardScaler()\n",
    "        \n",
    "    def __load_and_preprocess_image(self, img_path):\n",
    "        img = image.load_img(img_path, target_size=(299, 299))\n",
    "        img_array = image.img_to_array(img)\n",
    "        img_array = np.expand_dims(img_array, axis=0)\n",
    "        return preprocess_input(img_array)\n",
    "\n",
    "    def extract_features(self, img_paths: list):\n",
    "        features = []\n",
    "        for img_path in img_paths:\n",
    "            img = self.__load_and_preprocess_image(img_path)\n",
    "            f = self.model.predict(img)\n",
    "            f = f.flatten()\n",
    "            f = self.scaler.fit_transform(f.reshape(-1, 1)).flatten()\n",
    "            features.append(f)\n",
    "        return np.array(features)"
   ]
  },
  {
   "cell_type": "code",
   "execution_count": 2,
   "metadata": {},
   "outputs": [
    {
     "name": "stdout",
     "output_type": "stream",
     "text": [
      "\u001b[1m1/1\u001b[0m \u001b[32m━━━━━━━━━━━━━━━━━━━━\u001b[0m\u001b[37m\u001b[0m \u001b[1m3s\u001b[0m 3s/step\n",
      "\u001b[1m1/1\u001b[0m \u001b[32m━━━━━━━━━━━━━━━━━━━━\u001b[0m\u001b[37m\u001b[0m \u001b[1m0s\u001b[0m 119ms/step\n",
      "\u001b[1m1/1\u001b[0m \u001b[32m━━━━━━━━━━━━━━━━━━━━\u001b[0m\u001b[37m\u001b[0m \u001b[1m0s\u001b[0m 129ms/step\n",
      "(3, 131072)\n",
      "(3, 2)\n"
     ]
    }
   ],
   "source": [
    "extractor = FeatureExtraction()\n",
    "\n",
    "features = extractor.extract_features(['carro.png', 'perro.jpg', 'gato.jpg'])\n",
    "\n",
    "print(features.shape)\n",
    "\n",
    "pca = PCA(n_components=0.9)\n",
    "\n",
    "im1 = pca.fit_transform(features)\n",
    "print(im1.shape)"
   ]
  }
 ],
 "metadata": {
  "kernelspec": {
   "display_name": "venv",
   "language": "python",
   "name": "python3"
  },
  "language_info": {
   "codemirror_mode": {
    "name": "ipython",
    "version": 3
   },
   "file_extension": ".py",
   "mimetype": "text/x-python",
   "name": "python",
   "nbconvert_exporter": "python",
   "pygments_lexer": "ipython3",
   "version": "3.11.4"
  }
 },
 "nbformat": 4,
 "nbformat_minor": 2
}
